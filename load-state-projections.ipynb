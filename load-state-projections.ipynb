{
  "nbformat": 4,
  "nbformat_minor": 0,
  "metadata": {
    "colab": {
      "name": "scratchpad",
      "provenance": [],
      "include_colab_link": true
    },
    "kernelspec": {
      "display_name": "Python 3",
      "name": "python3"
    }
  },
  "cells": [
    {
      "cell_type": "markdown",
      "metadata": {
        "id": "view-in-github",
        "colab_type": "text"
      },
      "source": [
        "<a href=\"https://colab.research.google.com/github/AlexMcClung/WICHE/blob/master/load-state-projections.ipynb\" target=\"_parent\"><img src=\"https://colab.research.google.com/assets/colab-badge.svg\" alt=\"Open In Colab\"/></a>"
      ]
    },
    {
      "cell_type": "code",
      "metadata": {
        "colab_type": "code",
        "id": "lIYdn1woOS1n",
        "colab": {}
      },
      "source": [
        "import pandas as pd"
      ],
      "execution_count": 44,
      "outputs": []
    },
    {
      "cell_type": "code",
      "metadata": {
        "id": "Y_fkS-Oe4egq",
        "colab_type": "code",
        "colab": {}
      },
      "source": [
        "df = pd.read_excel('https://knocking.wiche.edu/s/All-Enrollment-and-Graduate-Projections-zlxg.xlsx', \n",
        "                   sheet_name='Projections')"
      ],
      "execution_count": 45,
      "outputs": []
    },
    {
      "cell_type": "code",
      "metadata": {
        "id": "drnFTCQk4pe7",
        "colab_type": "code",
        "colab": {
          "base_uri": "https://localhost:8080/",
          "height": 255
        },
        "outputId": "5cdc28e3-bb2c-4b83-da8b-1d430e14ad5f"
      },
      "source": [
        "df.sample(6)"
      ],
      "execution_count": 46,
      "outputs": [
        {
          "output_type": "execute_result",
          "data": {
            "text/html": [
              "<div>\n",
              "<style scoped>\n",
              "    .dataframe tbody tr th:only-of-type {\n",
              "        vertical-align: middle;\n",
              "    }\n",
              "\n",
              "    .dataframe tbody tr th {\n",
              "        vertical-align: top;\n",
              "    }\n",
              "\n",
              "    .dataframe thead th {\n",
              "        text-align: right;\n",
              "    }\n",
              "</style>\n",
              "<table border=\"1\" class=\"dataframe\">\n",
              "  <thead>\n",
              "    <tr style=\"text-align: right;\">\n",
              "      <th></th>\n",
              "      <th>STABR</th>\n",
              "      <th>SURVYEAR</th>\n",
              "      <th>TYPE</th>\n",
              "      <th>G01</th>\n",
              "      <th>G02</th>\n",
              "      <th>G03</th>\n",
              "      <th>G04</th>\n",
              "      <th>G05</th>\n",
              "      <th>G06</th>\n",
              "      <th>G07</th>\n",
              "      <th>G08</th>\n",
              "      <th>G09</th>\n",
              "      <th>G10</th>\n",
              "      <th>G11</th>\n",
              "      <th>G12</th>\n",
              "      <th>DPL</th>\n",
              "      <th>FLAG_P_G</th>\n",
              "      <th>FLAG_P_DPL</th>\n",
              "      <th>STNAME</th>\n",
              "    </tr>\n",
              "  </thead>\n",
              "  <tbody>\n",
              "    <tr>\n",
              "      <th>361</th>\n",
              "      <td>AK</td>\n",
              "      <td>2009</td>\n",
              "      <td>AS</td>\n",
              "      <td>1067.641077</td>\n",
              "      <td>1047.594734</td>\n",
              "      <td>1129.788544</td>\n",
              "      <td>1042.925257</td>\n",
              "      <td>1069.921043</td>\n",
              "      <td>1013.753419</td>\n",
              "      <td>1065.928535</td>\n",
              "      <td>994.324789</td>\n",
              "      <td>1040.195984</td>\n",
              "      <td>1030.626677</td>\n",
              "      <td>1140.371381</td>\n",
              "      <td>1089.795031</td>\n",
              "      <td>698.039077</td>\n",
              "      <td>A</td>\n",
              "      <td>A</td>\n",
              "      <td>Alaska</td>\n",
              "    </tr>\n",
              "    <tr>\n",
              "      <th>11384</th>\n",
              "      <td>WY</td>\n",
              "      <td>2024</td>\n",
              "      <td>AM</td>\n",
              "      <td>NaN</td>\n",
              "      <td>NaN</td>\n",
              "      <td>NaN</td>\n",
              "      <td>NaN</td>\n",
              "      <td>246.914195</td>\n",
              "      <td>254.879983</td>\n",
              "      <td>295.487535</td>\n",
              "      <td>230.143674</td>\n",
              "      <td>332.069682</td>\n",
              "      <td>217.680781</td>\n",
              "      <td>180.999708</td>\n",
              "      <td>160.756722</td>\n",
              "      <td>137.129585</td>\n",
              "      <td>P</td>\n",
              "      <td>P</td>\n",
              "      <td>Wyoming</td>\n",
              "    </tr>\n",
              "    <tr>\n",
              "      <th>4406</th>\n",
              "      <td>ME</td>\n",
              "      <td>2022</td>\n",
              "      <td>AS</td>\n",
              "      <td>NaN</td>\n",
              "      <td>NaN</td>\n",
              "      <td>243.001692</td>\n",
              "      <td>245.284372</td>\n",
              "      <td>238.843123</td>\n",
              "      <td>217.705886</td>\n",
              "      <td>232.755735</td>\n",
              "      <td>263.101745</td>\n",
              "      <td>264.930948</td>\n",
              "      <td>254.517601</td>\n",
              "      <td>328.012672</td>\n",
              "      <td>303.502293</td>\n",
              "      <td>314.995335</td>\n",
              "      <td>P</td>\n",
              "      <td>P</td>\n",
              "      <td>Maine</td>\n",
              "    </tr>\n",
              "    <tr>\n",
              "      <th>3743</th>\n",
              "      <td>KS</td>\n",
              "      <td>2031</td>\n",
              "      <td>AS</td>\n",
              "      <td>NaN</td>\n",
              "      <td>NaN</td>\n",
              "      <td>NaN</td>\n",
              "      <td>NaN</td>\n",
              "      <td>NaN</td>\n",
              "      <td>NaN</td>\n",
              "      <td>NaN</td>\n",
              "      <td>NaN</td>\n",
              "      <td>NaN</td>\n",
              "      <td>NaN</td>\n",
              "      <td>NaN</td>\n",
              "      <td>1402.771980</td>\n",
              "      <td>1292.924096</td>\n",
              "      <td>P</td>\n",
              "      <td>P</td>\n",
              "      <td>Kansas</td>\n",
              "    </tr>\n",
              "    <tr>\n",
              "      <th>2646</th>\n",
              "      <td>HI</td>\n",
              "      <td>2022</td>\n",
              "      <td>AM</td>\n",
              "      <td>NaN</td>\n",
              "      <td>NaN</td>\n",
              "      <td>27.844172</td>\n",
              "      <td>38.444074</td>\n",
              "      <td>43.912779</td>\n",
              "      <td>47.252911</td>\n",
              "      <td>36.839700</td>\n",
              "      <td>40.365405</td>\n",
              "      <td>49.577002</td>\n",
              "      <td>26.234447</td>\n",
              "      <td>27.607117</td>\n",
              "      <td>27.401955</td>\n",
              "      <td>27.222738</td>\n",
              "      <td>P</td>\n",
              "      <td>P</td>\n",
              "      <td>Hawaii</td>\n",
              "    </tr>\n",
              "    <tr>\n",
              "      <th>9896</th>\n",
              "      <td>UT</td>\n",
              "      <td>2008</td>\n",
              "      <td>HI</td>\n",
              "      <td>7208.000000</td>\n",
              "      <td>7012.000000</td>\n",
              "      <td>6812.000000</td>\n",
              "      <td>6627.000000</td>\n",
              "      <td>6416.000000</td>\n",
              "      <td>6077.000000</td>\n",
              "      <td>5926.000000</td>\n",
              "      <td>5698.000000</td>\n",
              "      <td>5605.000000</td>\n",
              "      <td>5223.000000</td>\n",
              "      <td>4896.000000</td>\n",
              "      <td>4254.000000</td>\n",
              "      <td>2707.000000</td>\n",
              "      <td>A</td>\n",
              "      <td>A</td>\n",
              "      <td>Utah</td>\n",
              "    </tr>\n",
              "  </tbody>\n",
              "</table>\n",
              "</div>"
            ],
            "text/plain": [
              "      STABR  SURVYEAR TYPE  ...  FLAG_P_G  FLAG_P_DPL   STNAME\n",
              "361      AK      2009   AS  ...         A           A   Alaska\n",
              "11384    WY      2024   AM  ...         P           P  Wyoming\n",
              "4406     ME      2022   AS  ...         P           P    Maine\n",
              "3743     KS      2031   AS  ...         P           P   Kansas\n",
              "2646     HI      2022   AM  ...         P           P   Hawaii\n",
              "9896     UT      2008   HI  ...         A           A     Utah\n",
              "\n",
              "[6 rows x 19 columns]"
            ]
          },
          "metadata": {
            "tags": []
          },
          "execution_count": 46
        }
      ]
    },
    {
      "cell_type": "code",
      "metadata": {
        "id": "v6PPCjvq8YVT",
        "colab_type": "code",
        "colab": {
          "base_uri": "https://localhost:8080/",
          "height": 595
        },
        "outputId": "674a81b2-99c9-4638-c4c1-458d496cc01e"
      },
      "source": [
        "df[ (df['STABR'] == 'NJ') & df['TYPE'].isin(['G','NP']) ].groupby('SURVYEAR')['DPL'].sum()"
      ],
      "execution_count": 47,
      "outputs": [
        {
          "output_type": "execute_result",
          "data": {
            "text/plain": [
              "SURVYEAR\n",
              "2000     88475.000000\n",
              "2001     90288.000000\n",
              "2002     94293.000000\n",
              "2003     96254.000000\n",
              "2004     99328.000000\n",
              "2005    103200.000000\n",
              "2006    106357.000000\n",
              "2007    108609.000000\n",
              "2008    109433.000000\n",
              "2009    110891.000000\n",
              "2010    108165.000000\n",
              "2011    107256.667309\n",
              "2012    108975.409551\n",
              "2013    106593.550133\n",
              "2014    106474.996791\n",
              "2015    105061.687777\n",
              "2016    103175.223828\n",
              "2017    103597.473684\n",
              "2018    103090.636645\n",
              "2019    101371.743169\n",
              "2020    101312.038720\n",
              "2021    101355.979231\n",
              "2022     99864.904050\n",
              "2023    101611.193832\n",
              "2024    102913.709257\n",
              "2025     99265.627646\n",
              "2026     97247.608318\n",
              "2027     94292.000827\n",
              "2028     93452.068172\n",
              "2029     91998.508540\n",
              "2030     90476.459125\n",
              "2031     91125.564254\n",
              "Name: DPL, dtype: float64"
            ]
          },
          "metadata": {
            "tags": []
          },
          "execution_count": 47
        }
      ]
    },
    {
      "cell_type": "code",
      "metadata": {
        "id": "Xa41jEdP9Ozy",
        "colab_type": "code",
        "colab": {
          "base_uri": "https://localhost:8080/",
          "height": 321
        },
        "outputId": "56c0542e-35f6-48e8-df57-8de22a2282e3"
      },
      "source": [
        "df[ (df['STABR'] == 'NJ') & df['TYPE'].isin(['G','NP']) ].groupby('SURVYEAR')['DPL'].sum().plot()"
      ],
      "execution_count": 48,
      "outputs": [
        {
          "output_type": "execute_result",
          "data": {
            "text/plain": [
              "<matplotlib.axes._subplots.AxesSubplot at 0x7fc1d84ef6d8>"
            ]
          },
          "metadata": {
            "tags": []
          },
          "execution_count": 48
        },
        {
          "output_type": "display_data",
          "data": {
            "image/png": "[encoded data removed]",
            "text/plain": [
              "<Figure size 432x288 with 1 Axes>"
            ]
          },
          "metadata": {
            "tags": []
          }
        }
      ]
    }
  ]
}